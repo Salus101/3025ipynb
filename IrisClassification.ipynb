{
  "cells": [
    {
      "cell_type": "markdown",
      "metadata": {
        "id": "view-in-github",
        "colab_type": "text"
      },
      "source": [
        "<a href=\"https://colab.research.google.com/github/Salus101/3025ipynb/blob/main/IrisClassification.ipynb\" target=\"_parent\"><img src=\"https://colab.research.google.com/assets/colab-badge.svg\" alt=\"Open In Colab\"/></a>"
      ]
    },
    {
      "cell_type": "markdown",
      "id": "5659ce1f",
      "metadata": {
        "id": "5659ce1f"
      },
      "source": [
        "# IRIS CLASSIFICATION"
      ]
    },
    {
      "cell_type": "markdown",
      "id": "a30b508c",
      "metadata": {
        "id": "a30b508c"
      },
      "source": [
        "# LOAD DATA"
      ]
    },
    {
      "cell_type": "code",
      "execution_count": null,
      "id": "093125ee",
      "metadata": {
        "id": "093125ee"
      },
      "outputs": [],
      "source": [
        "from sklearn.datasets import load_iris\n",
        "iris_dataset = load_iris()"
      ]
    },
    {
      "cell_type": "code",
      "execution_count": null,
      "id": "78438d6e",
      "metadata": {
        "id": "78438d6e",
        "outputId": "e7e7f9f2-ada9-44f4-dc11-653ce544ac23"
      },
      "outputs": [
        {
          "name": "stdout",
          "output_type": "stream",
          "text": [
            "Keys of iris_dataset: \n",
            " dict_keys(['data', 'target', 'frame', 'target_names', 'DESCR', 'feature_names', 'filename'])\n"
          ]
        }
      ],
      "source": [
        "print(\"Keys of iris_dataset: \\n\", iris_dataset.keys())"
      ]
    },
    {
      "cell_type": "markdown",
      "id": "9c07bab9",
      "metadata": {
        "id": "9c07bab9"
      },
      "source": [
        "# Description of the dataset"
      ]
    },
    {
      "cell_type": "code",
      "execution_count": null,
      "id": "4661facf",
      "metadata": {
        "id": "4661facf",
        "outputId": "1b0b20ec-ed30-4c64-fc79-4e15b254ace9"
      },
      "outputs": [
        {
          "name": "stdout",
          "output_type": "stream",
          "text": [
            ".. _iris_dataset:\n",
            "\n",
            "Iris plants dataset\n",
            "--------------------\n",
            "\n",
            "**Data Set Characteristics:**\n",
            "\n",
            "    :Number of Instances: 150 (50 in each of three classes)\n",
            "    :Number of Attributes: 4 numeric, predictive\n"
          ]
        }
      ],
      "source": [
        "print(iris_dataset['DESCR'][:200])"
      ]
    },
    {
      "cell_type": "code",
      "execution_count": null,
      "id": "7902886c",
      "metadata": {
        "id": "7902886c",
        "outputId": "90322875-9d21-4e06-eefd-c594ffebca72"
      },
      "outputs": [
        {
          "name": "stdout",
          "output_type": "stream",
          "text": [
            ".. _iris_dataset:\n",
            "\n",
            "Iris plants dataset\n",
            "--------------------\n",
            "\n",
            "**Data Set Characteristics:**\n",
            "\n",
            "    :Number of Instances: 150 (50 in each of three classes)\n",
            "    :Number of Attributes: 4 numeric, predictive attributes and the class\n",
            "    :Attribute Information:\n",
            "        - sepal length in cm\n",
            "        - sepal width in cm\n",
            "        - petal length in cm\n",
            "        - petal width in cm\n",
            "        - class:\n",
            "                - Iris-Setosa\n",
            "                - Iris-Versicolour\n",
            "                - Iris-Virginica\n",
            "                \n",
            "    :Summary Statistics:\n",
            "\n",
            "    ============== ==== ==== ======= ===== ====================\n",
            "                    Min  Max   Mean    SD   Class Correlation\n",
            "    ============== ==== ==== ======= ===== ====================\n",
            "    sepal length:   4.3  7.9   5.84   0.83    0.7826\n",
            "    sepal width:    2.0  4.4   3.05   0.43   -0.4194\n",
            "    petal length:   1.0  6.9   3.76   1.76    0.9490  (high!)\n",
            "    petal width:    0.1  2.5   1.20   0.76    0.9565  (high!)\n",
            "    ============== ==== ==== ======= ===== ====================\n",
            "\n",
            "    :Missing Attribute Values: None\n",
            "    :Class Distribution: 33.3% for each of 3 classes.\n",
            "    :Creator: R.A. Fisher\n",
            "    :Donor: Michael Marshall (MARSHALL%PLU@io.arc.nasa.gov)\n",
            "    :Date: July, 1988\n",
            "\n",
            "The famous Iris database, first used by Sir R.A. Fisher. The dataset is taken\n",
            "from Fisher's paper. Note that it's the same as in R, but not as in the UCI\n",
            "Machine Learning Repository, which has two wrong data points.\n",
            "\n",
            "This is perhaps the best known database to be found in the\n",
            "pattern recognition literature.  Fisher's paper is a classic in the field and\n",
            "is referenced frequently to this day.  (See Duda & Hart, for example.)  The\n",
            "data set contains 3 classes of 50 instances each, where each class refers to a\n",
            "type of iris plant.  One class is linearly separable from the other 2; the\n",
            "latter are NOT linearly separable from each other.\n",
            "\n",
            ".. topic:: References\n",
            "\n",
            "   - Fisher, R.A. \"The use of multiple measurements in taxonomic problems\"\n",
            "     Annual Eugenics, 7, Part II, 179-188 (1936); also in \"Contributions to\n",
            "     Mathematical Statistics\" (John Wiley, NY, 1950).\n",
            "   - Duda, R.O., & Hart, P.E. (1973) Pattern Classification and Scene Analysis.\n",
            "     (Q327.D83) John Wiley & Sons.  ISBN 0-471-22361-1.  See page 218.\n",
            "   - Dasarathy, B.V. (1980) \"Nosing Around the Neighborhood: A New System\n",
            "     Structure and Classification Rule for Recognition in Partially Exposed\n",
            "     Environments\".  IEEE Transactions on Pattern Analysis and Machine\n",
            "     Intelligence, Vol. PAMI-2, No. 1, 67-71.\n",
            "   - Gates, G.W. (1972) \"The Reduced Nearest Neighbor Rule\".  IEEE Transactions\n",
            "     on Information Theory, May 1972, 431-433.\n",
            "   - See also: 1988 MLC Proceedings, 54-64.  Cheeseman et al\"s AUTOCLASS II\n",
            "     conceptual clustering system finds 3 classes in the data.\n",
            "   - Many, many more ...\n"
          ]
        }
      ],
      "source": [
        "print(iris_dataset['DESCR'])"
      ]
    },
    {
      "cell_type": "code",
      "execution_count": null,
      "id": "dc26844a",
      "metadata": {
        "id": "dc26844a",
        "outputId": "ba020cd6-958c-4455-ea8b-4efef2b2e12b"
      },
      "outputs": [
        {
          "ename": "KeyError",
          "evalue": "'feature_name'",
          "output_type": "error",
          "traceback": [
            "\u001b[1;31m---------------------------------------------------------------------------\u001b[0m",
            "\u001b[1;31mKeyError\u001b[0m                                  Traceback (most recent call last)",
            "\u001b[1;32m~\\AppData\\Local\\Temp/ipykernel_9244/1107067997.py\u001b[0m in \u001b[0;36m<module>\u001b[1;34m\u001b[0m\n\u001b[1;32m----> 1\u001b[1;33m \u001b[0mprint\u001b[0m\u001b[1;33m(\u001b[0m\u001b[0miris_dataset\u001b[0m\u001b[1;33m[\u001b[0m\u001b[1;34m'feature_name'\u001b[0m\u001b[1;33m]\u001b[0m\u001b[1;33m)\u001b[0m\u001b[1;33m\u001b[0m\u001b[1;33m\u001b[0m\u001b[0m\n\u001b[0m",
            "\u001b[1;31mKeyError\u001b[0m: 'feature_name'"
          ]
        }
      ],
      "source": [
        "print(iris_dataset['feature_name'])"
      ]
    },
    {
      "cell_type": "code",
      "execution_count": null,
      "id": "0ee95206",
      "metadata": {
        "id": "0ee95206",
        "outputId": "949716ba-a38d-440a-af5e-1a0147579f61"
      },
      "outputs": [
        {
          "name": "stdout",
          "output_type": "stream",
          "text": [
            "['sepal length (cm)', 'sepal width (cm)', 'petal length (cm)', 'petal width (cm)']\n"
          ]
        }
      ],
      "source": [
        "print(iris_dataset['feature_names'])"
      ]
    },
    {
      "cell_type": "code",
      "execution_count": null,
      "id": "5f0e0e63",
      "metadata": {
        "id": "5f0e0e63",
        "outputId": "993f2668-25cf-498d-d42e-d60ef4511831"
      },
      "outputs": [
        {
          "name": "stdout",
          "output_type": "stream",
          "text": [
            "['setosa' 'versicolor' 'virginica']\n"
          ]
        }
      ],
      "source": [
        "print(iris_dataset['target_names'])"
      ]
    },
    {
      "cell_type": "code",
      "execution_count": null,
      "id": "97363685",
      "metadata": {
        "id": "97363685",
        "outputId": "38d5e34b-e80d-4315-c8df-85fba810d62d"
      },
      "outputs": [
        {
          "name": "stdout",
          "output_type": "stream",
          "text": [
            "(150, 4)\n"
          ]
        }
      ],
      "source": [
        "print(iris_dataset['data'].shape)"
      ]
    },
    {
      "cell_type": "code",
      "execution_count": null,
      "id": "7464feb7",
      "metadata": {
        "id": "7464feb7",
        "outputId": "d2dd2379-69af-4f6d-b064-37c22ffdf1ef"
      },
      "outputs": [
        {
          "name": "stdout",
          "output_type": "stream",
          "text": [
            "[0 0 0 0 0 0 0 0 0 0 0 0 0 0 0 0 0 0 0 0 0 0 0 0 0 0 0 0 0 0 0 0 0 0 0 0 0\n",
            " 0 0 0 0 0 0 0 0 0 0 0 0 0 1 1 1 1 1 1 1 1 1 1 1 1 1 1 1 1 1 1 1 1 1 1 1 1\n",
            " 1 1 1 1 1 1 1 1 1 1 1 1 1 1 1 1 1 1 1 1 1 1 1 1 1 1 2 2 2 2 2 2 2 2 2 2 2\n",
            " 2 2 2 2 2 2 2 2 2 2 2 2 2 2 2 2 2 2 2 2 2 2 2 2 2 2 2 2 2 2 2 2 2 2 2 2 2\n",
            " 2 2]\n"
          ]
        }
      ],
      "source": [
        "print(iris_dataset['target'])"
      ]
    },
    {
      "cell_type": "code",
      "execution_count": null,
      "id": "7e992f72",
      "metadata": {
        "id": "7e992f72",
        "outputId": "4b733f41-f991-457c-a99d-e36167675de7"
      },
      "outputs": [
        {
          "name": "stdout",
          "output_type": "stream",
          "text": [
            "[5.4 3.9 1.7 0.4]\n"
          ]
        }
      ],
      "source": [
        "print(iris_dataset['data'][5])"
      ]
    },
    {
      "cell_type": "code",
      "execution_count": null,
      "id": "6d1cfe4b",
      "metadata": {
        "id": "6d1cfe4b",
        "outputId": "2a7e7b50-9afa-42bb-d0e2-fce5956a5dcf"
      },
      "outputs": [
        {
          "name": "stdout",
          "output_type": "stream",
          "text": [
            "[[5.1 3.5 1.4 0.2]\n",
            " [4.9 3.  1.4 0.2]\n",
            " [4.7 3.2 1.3 0.2]\n",
            " [4.6 3.1 1.5 0.2]\n",
            " [5.  3.6 1.4 0.2]]\n"
          ]
        }
      ],
      "source": [
        "print(iris_dataset['data'][:5])"
      ]
    },
    {
      "cell_type": "code",
      "execution_count": null,
      "id": "73f5b60a",
      "metadata": {
        "id": "73f5b60a",
        "outputId": "40868b58-9ac7-475f-99ee-c8d4bcbe8d55"
      },
      "outputs": [
        {
          "name": "stdout",
          "output_type": "stream",
          "text": [
            "[4.6 3.1 1.5 0.2]\n"
          ]
        }
      ],
      "source": [
        "print(iris_dataset['data'][3])"
      ]
    },
    {
      "cell_type": "code",
      "execution_count": null,
      "id": "4e11488f",
      "metadata": {
        "id": "4e11488f"
      },
      "outputs": [],
      "source": []
    }
  ],
  "metadata": {
    "kernelspec": {
      "display_name": "Python 3 (ipykernel)",
      "language": "python",
      "name": "python3"
    },
    "language_info": {
      "codemirror_mode": {
        "name": "ipython",
        "version": 3
      },
      "file_extension": ".py",
      "mimetype": "text/x-python",
      "name": "python",
      "nbconvert_exporter": "python",
      "pygments_lexer": "ipython3",
      "version": "3.9.7"
    },
    "colab": {
      "provenance": [],
      "include_colab_link": true
    }
  },
  "nbformat": 4,
  "nbformat_minor": 5
}